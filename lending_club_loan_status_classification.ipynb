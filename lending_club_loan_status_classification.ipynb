{
 "cells": [
  {
   "cell_type": "code",
   "execution_count": 49,
   "id": "73ca0f21-d967-444c-8383-2a2fa21d656f",
   "metadata": {},
   "outputs": [],
   "source": [
    "from datetime import datetime\n",
    "import joblib\n",
    "import pandas as pd\n",
    "from matplotlib import pyplot as plt\n",
    "import mlflow\n",
    "from sklearn.pipeline import Pipeline\n",
    "from sklearn.compose import make_column_selector, ColumnTransformer\n",
    "from sklearn.impute import SimpleImputer\n",
    "from sklearn.preprocessing import OrdinalEncoder\n",
    "from xgboost import XGBClassifier"
   ]
  },
  {
   "cell_type": "markdown",
   "id": "8954afc9-5c59-4e0e-946a-4a95e97589a0",
   "metadata": {},
   "source": [
    "# Exploratory Data Analysis"
   ]
  },
  {
   "cell_type": "code",
   "execution_count": 2,
   "id": "d3b3d311-0d6b-455d-843e-ab8bf3c95d48",
   "metadata": {},
   "outputs": [],
   "source": [
    "pd.set_option('display.max_columns', None)\n",
    "pd.set_option('display.max_rows', None)"
   ]
  },
  {
   "cell_type": "code",
   "execution_count": 25,
   "id": "32092546-256f-4fc1-a32b-09049f482e62",
   "metadata": {},
   "outputs": [],
   "source": [
    "df = pd.read_csv(\"./dataset/e2e_lending_club_10k_partitioned.csv\")"
   ]
  },
  {
   "cell_type": "code",
   "execution_count": 26,
   "id": "c6640d44-ee91-40d5-8dcb-8577f7bb336d",
   "metadata": {},
   "outputs": [
    {
     "data": {
      "text/html": [
       "<div>\n",
       "<style scoped>\n",
       "    .dataframe tbody tr th:only-of-type {\n",
       "        vertical-align: middle;\n",
       "    }\n",
       "\n",
       "    .dataframe tbody tr th {\n",
       "        vertical-align: top;\n",
       "    }\n",
       "\n",
       "    .dataframe thead th {\n",
       "        text-align: right;\n",
       "    }\n",
       "</style>\n",
       "<table border=\"1\" class=\"dataframe\">\n",
       "  <thead>\n",
       "    <tr style=\"text-align: right;\">\n",
       "      <th></th>\n",
       "      <th>loan_amnt</th>\n",
       "      <th>funded_amnt</th>\n",
       "      <th>term</th>\n",
       "      <th>int_rate</th>\n",
       "      <th>installment</th>\n",
       "      <th>grade</th>\n",
       "      <th>sub_grade</th>\n",
       "      <th>emp_title</th>\n",
       "      <th>emp_length</th>\n",
       "      <th>home_ownership</th>\n",
       "      <th>annual_inc</th>\n",
       "      <th>verification_status</th>\n",
       "      <th>pymnt_plan</th>\n",
       "      <th>url</th>\n",
       "      <th>desc</th>\n",
       "      <th>purpose</th>\n",
       "      <th>title</th>\n",
       "      <th>zip_code</th>\n",
       "      <th>addr_state</th>\n",
       "      <th>dti</th>\n",
       "      <th>delinq_2yrs</th>\n",
       "      <th>earliest_cr_line</th>\n",
       "      <th>inq_last_6mths</th>\n",
       "      <th>mths_since_last_delinq</th>\n",
       "      <th>mths_since_last_record</th>\n",
       "      <th>open_acc</th>\n",
       "      <th>pub_rec</th>\n",
       "      <th>revol_bal</th>\n",
       "      <th>revol_util</th>\n",
       "      <th>total_acc</th>\n",
       "      <th>initial_list_status</th>\n",
       "      <th>mths_since_last_major_derog</th>\n",
       "      <th>policy_code</th>\n",
       "      <th>loan_status</th>\n",
       "      <th>Partition</th>\n",
       "    </tr>\n",
       "  </thead>\n",
       "  <tbody>\n",
       "    <tr>\n",
       "      <th>0</th>\n",
       "      <td>4000</td>\n",
       "      <td>4000</td>\n",
       "      <td>60 months</td>\n",
       "      <td>7.29%</td>\n",
       "      <td>79.76</td>\n",
       "      <td>A</td>\n",
       "      <td>A4</td>\n",
       "      <td>Time Warner Cable</td>\n",
       "      <td>10+ years</td>\n",
       "      <td>MORTGAGE</td>\n",
       "      <td>50000.0</td>\n",
       "      <td>not verified</td>\n",
       "      <td>n</td>\n",
       "      <td>https://www.lendingclub.com/browse/loanDetail....</td>\n",
       "      <td>NaN</td>\n",
       "      <td>medical</td>\n",
       "      <td>Medical</td>\n",
       "      <td>766xx</td>\n",
       "      <td>TX</td>\n",
       "      <td>10.87</td>\n",
       "      <td>0.0</td>\n",
       "      <td>12/1/92</td>\n",
       "      <td>0.0</td>\n",
       "      <td>NaN</td>\n",
       "      <td>NaN</td>\n",
       "      <td>15.0</td>\n",
       "      <td>0.0</td>\n",
       "      <td>12087</td>\n",
       "      <td>12.1</td>\n",
       "      <td>44.0</td>\n",
       "      <td>f</td>\n",
       "      <td>NaN</td>\n",
       "      <td>1</td>\n",
       "      <td>0</td>\n",
       "      <td>T</td>\n",
       "    </tr>\n",
       "    <tr>\n",
       "      <th>1</th>\n",
       "      <td>16000</td>\n",
       "      <td>16000</td>\n",
       "      <td>60 months</td>\n",
       "      <td>18.25%</td>\n",
       "      <td>408.48</td>\n",
       "      <td>F</td>\n",
       "      <td>F1</td>\n",
       "      <td>Ottawa University</td>\n",
       "      <td>&lt; 1 year</td>\n",
       "      <td>RENT</td>\n",
       "      <td>39216.0</td>\n",
       "      <td>not verified</td>\n",
       "      <td>n</td>\n",
       "      <td>https://www.lendingclub.com/browse/loanDetail....</td>\n",
       "      <td>Borrower added on 04/14/11 &gt; I will be using...</td>\n",
       "      <td>debt_consolidation</td>\n",
       "      <td>My Debt Consolidation Loan</td>\n",
       "      <td>660xx</td>\n",
       "      <td>KS</td>\n",
       "      <td>9.15</td>\n",
       "      <td>0.0</td>\n",
       "      <td>11/1/05</td>\n",
       "      <td>2.0</td>\n",
       "      <td>NaN</td>\n",
       "      <td>NaN</td>\n",
       "      <td>4.0</td>\n",
       "      <td>0.0</td>\n",
       "      <td>10114</td>\n",
       "      <td>64.0</td>\n",
       "      <td>5.0</td>\n",
       "      <td>f</td>\n",
       "      <td>NaN</td>\n",
       "      <td>1</td>\n",
       "      <td>0</td>\n",
       "      <td>T</td>\n",
       "    </tr>\n",
       "    <tr>\n",
       "      <th>2</th>\n",
       "      <td>8700</td>\n",
       "      <td>8700</td>\n",
       "      <td>36 months</td>\n",
       "      <td>7.88%</td>\n",
       "      <td>272.15</td>\n",
       "      <td>A</td>\n",
       "      <td>A5</td>\n",
       "      <td>Kennedy Wilson</td>\n",
       "      <td>4 years</td>\n",
       "      <td>RENT</td>\n",
       "      <td>65000.0</td>\n",
       "      <td>not verified</td>\n",
       "      <td>n</td>\n",
       "      <td>https://www.lendingclub.com/browse/loanDetail....</td>\n",
       "      <td>NaN</td>\n",
       "      <td>credit_card</td>\n",
       "      <td>AP Personal Loan</td>\n",
       "      <td>916xx</td>\n",
       "      <td>CA</td>\n",
       "      <td>11.24</td>\n",
       "      <td>0.0</td>\n",
       "      <td>6/1/70</td>\n",
       "      <td>0.0</td>\n",
       "      <td>NaN</td>\n",
       "      <td>NaN</td>\n",
       "      <td>4.0</td>\n",
       "      <td>0.0</td>\n",
       "      <td>81</td>\n",
       "      <td>0.6</td>\n",
       "      <td>8.0</td>\n",
       "      <td>f</td>\n",
       "      <td>NaN</td>\n",
       "      <td>1</td>\n",
       "      <td>0</td>\n",
       "      <td>T</td>\n",
       "    </tr>\n",
       "    <tr>\n",
       "      <th>3</th>\n",
       "      <td>18000</td>\n",
       "      <td>18000</td>\n",
       "      <td>60 months</td>\n",
       "      <td>11.49%</td>\n",
       "      <td>395.78</td>\n",
       "      <td>B</td>\n",
       "      <td>B4</td>\n",
       "      <td>TOWN OF PLATTEKILL</td>\n",
       "      <td>10+ years</td>\n",
       "      <td>MORTGAGE</td>\n",
       "      <td>57500.0</td>\n",
       "      <td>not verified</td>\n",
       "      <td>n</td>\n",
       "      <td>https://www.lendingclub.com/browse/loanDetail....</td>\n",
       "      <td>NaN</td>\n",
       "      <td>debt_consolidation</td>\n",
       "      <td>Debt Consolidation Loan</td>\n",
       "      <td>124xx</td>\n",
       "      <td>NY</td>\n",
       "      <td>6.18</td>\n",
       "      <td>1.0</td>\n",
       "      <td>9/1/82</td>\n",
       "      <td>0.0</td>\n",
       "      <td>16.0</td>\n",
       "      <td>NaN</td>\n",
       "      <td>6.0</td>\n",
       "      <td>0.0</td>\n",
       "      <td>10030</td>\n",
       "      <td>37.1</td>\n",
       "      <td>23.0</td>\n",
       "      <td>f</td>\n",
       "      <td>NaN</td>\n",
       "      <td>1</td>\n",
       "      <td>0</td>\n",
       "      <td>T</td>\n",
       "    </tr>\n",
       "    <tr>\n",
       "      <th>4</th>\n",
       "      <td>16000</td>\n",
       "      <td>16000</td>\n",
       "      <td>36 months</td>\n",
       "      <td>11.83%</td>\n",
       "      <td>530.15</td>\n",
       "      <td>B</td>\n",
       "      <td>B3</td>\n",
       "      <td>Belmont Correctional</td>\n",
       "      <td>10+ years</td>\n",
       "      <td>MORTGAGE</td>\n",
       "      <td>50004.0</td>\n",
       "      <td>VERIFIED - income</td>\n",
       "      <td>n</td>\n",
       "      <td>https://www.lendingclub.com/browse/loanDetail....</td>\n",
       "      <td>I want to consolidate my debt, pay for a vacat...</td>\n",
       "      <td>debt_consolidation</td>\n",
       "      <td>consolidate</td>\n",
       "      <td>439xx</td>\n",
       "      <td>OH</td>\n",
       "      <td>19.03</td>\n",
       "      <td>0.0</td>\n",
       "      <td>10/1/99</td>\n",
       "      <td>4.0</td>\n",
       "      <td>NaN</td>\n",
       "      <td>NaN</td>\n",
       "      <td>8.0</td>\n",
       "      <td>0.0</td>\n",
       "      <td>10740</td>\n",
       "      <td>40.4</td>\n",
       "      <td>21.0</td>\n",
       "      <td>f</td>\n",
       "      <td>NaN</td>\n",
       "      <td>1</td>\n",
       "      <td>0</td>\n",
       "      <td>T</td>\n",
       "    </tr>\n",
       "  </tbody>\n",
       "</table>\n",
       "</div>"
      ],
      "text/plain": [
       "   loan_amnt  funded_amnt        term int_rate  installment grade sub_grade  \\\n",
       "0       4000         4000   60 months    7.29%        79.76     A        A4   \n",
       "1      16000        16000   60 months   18.25%       408.48     F        F1   \n",
       "2       8700         8700   36 months    7.88%       272.15     A        A5   \n",
       "3      18000        18000   60 months   11.49%       395.78     B        B4   \n",
       "4      16000        16000   36 months   11.83%       530.15     B        B3   \n",
       "\n",
       "              emp_title emp_length home_ownership  annual_inc  \\\n",
       "0     Time Warner Cable  10+ years       MORTGAGE     50000.0   \n",
       "1     Ottawa University   < 1 year           RENT     39216.0   \n",
       "2        Kennedy Wilson    4 years           RENT     65000.0   \n",
       "3    TOWN OF PLATTEKILL  10+ years       MORTGAGE     57500.0   \n",
       "4  Belmont Correctional  10+ years       MORTGAGE     50004.0   \n",
       "\n",
       "  verification_status pymnt_plan  \\\n",
       "0        not verified          n   \n",
       "1        not verified          n   \n",
       "2        not verified          n   \n",
       "3        not verified          n   \n",
       "4   VERIFIED - income          n   \n",
       "\n",
       "                                                 url  \\\n",
       "0  https://www.lendingclub.com/browse/loanDetail....   \n",
       "1  https://www.lendingclub.com/browse/loanDetail....   \n",
       "2  https://www.lendingclub.com/browse/loanDetail....   \n",
       "3  https://www.lendingclub.com/browse/loanDetail....   \n",
       "4  https://www.lendingclub.com/browse/loanDetail....   \n",
       "\n",
       "                                                desc             purpose  \\\n",
       "0                                                NaN             medical   \n",
       "1    Borrower added on 04/14/11 > I will be using...  debt_consolidation   \n",
       "2                                                NaN         credit_card   \n",
       "3                                                NaN  debt_consolidation   \n",
       "4  I want to consolidate my debt, pay for a vacat...  debt_consolidation   \n",
       "\n",
       "                        title zip_code addr_state    dti  delinq_2yrs  \\\n",
       "0                     Medical    766xx         TX  10.87          0.0   \n",
       "1  My Debt Consolidation Loan    660xx         KS   9.15          0.0   \n",
       "2            AP Personal Loan    916xx         CA  11.24          0.0   \n",
       "3     Debt Consolidation Loan    124xx         NY   6.18          1.0   \n",
       "4                 consolidate    439xx         OH  19.03          0.0   \n",
       "\n",
       "  earliest_cr_line  inq_last_6mths  mths_since_last_delinq  \\\n",
       "0          12/1/92             0.0                     NaN   \n",
       "1          11/1/05             2.0                     NaN   \n",
       "2           6/1/70             0.0                     NaN   \n",
       "3           9/1/82             0.0                    16.0   \n",
       "4          10/1/99             4.0                     NaN   \n",
       "\n",
       "   mths_since_last_record  open_acc  pub_rec  revol_bal  revol_util  \\\n",
       "0                     NaN      15.0      0.0      12087        12.1   \n",
       "1                     NaN       4.0      0.0      10114        64.0   \n",
       "2                     NaN       4.0      0.0         81         0.6   \n",
       "3                     NaN       6.0      0.0      10030        37.1   \n",
       "4                     NaN       8.0      0.0      10740        40.4   \n",
       "\n",
       "   total_acc initial_list_status  mths_since_last_major_derog  policy_code  \\\n",
       "0       44.0                   f                          NaN            1   \n",
       "1        5.0                   f                          NaN            1   \n",
       "2        8.0                   f                          NaN            1   \n",
       "3       23.0                   f                          NaN            1   \n",
       "4       21.0                   f                          NaN            1   \n",
       "\n",
       "   loan_status Partition  \n",
       "0            0         T  \n",
       "1            0         T  \n",
       "2            0         T  \n",
       "3            0         T  \n",
       "4            0         T  "
      ]
     },
     "execution_count": 26,
     "metadata": {},
     "output_type": "execute_result"
    }
   ],
   "source": [
    "df.head()"
   ]
  },
  {
   "cell_type": "code",
   "execution_count": 27,
   "id": "6aca2550-53d4-4cda-8476-ab46b57cd07a",
   "metadata": {},
   "outputs": [
    {
     "data": {
      "text/html": [
       "<div>\n",
       "<style scoped>\n",
       "    .dataframe tbody tr th:only-of-type {\n",
       "        vertical-align: middle;\n",
       "    }\n",
       "\n",
       "    .dataframe tbody tr th {\n",
       "        vertical-align: top;\n",
       "    }\n",
       "\n",
       "    .dataframe thead th {\n",
       "        text-align: right;\n",
       "    }\n",
       "</style>\n",
       "<table border=\"1\" class=\"dataframe\">\n",
       "  <thead>\n",
       "    <tr style=\"text-align: right;\">\n",
       "      <th></th>\n",
       "      <th>loan_amnt</th>\n",
       "      <th>funded_amnt</th>\n",
       "      <th>installment</th>\n",
       "      <th>annual_inc</th>\n",
       "      <th>dti</th>\n",
       "      <th>delinq_2yrs</th>\n",
       "      <th>inq_last_6mths</th>\n",
       "      <th>mths_since_last_delinq</th>\n",
       "      <th>mths_since_last_record</th>\n",
       "      <th>open_acc</th>\n",
       "      <th>pub_rec</th>\n",
       "      <th>revol_bal</th>\n",
       "      <th>revol_util</th>\n",
       "      <th>total_acc</th>\n",
       "      <th>mths_since_last_major_derog</th>\n",
       "      <th>policy_code</th>\n",
       "      <th>loan_status</th>\n",
       "    </tr>\n",
       "  </thead>\n",
       "  <tbody>\n",
       "    <tr>\n",
       "      <th>count</th>\n",
       "      <td>10000.000000</td>\n",
       "      <td>10000.000000</td>\n",
       "      <td>10000.00000</td>\n",
       "      <td>9999.000000</td>\n",
       "      <td>10000.000000</td>\n",
       "      <td>9995.000000</td>\n",
       "      <td>9995.000000</td>\n",
       "      <td>3684.000000</td>\n",
       "      <td>840.000000</td>\n",
       "      <td>9995.000000</td>\n",
       "      <td>9995.000000</td>\n",
       "      <td>1.000000e+04</td>\n",
       "      <td>9977.000000</td>\n",
       "      <td>9995.000000</td>\n",
       "      <td>0.0</td>\n",
       "      <td>10000.0</td>\n",
       "      <td>10000.000000</td>\n",
       "    </tr>\n",
       "    <tr>\n",
       "      <th>mean</th>\n",
       "      <td>11035.522500</td>\n",
       "      <td>10765.972500</td>\n",
       "      <td>321.43098</td>\n",
       "      <td>68203.011539</td>\n",
       "      <td>13.338704</td>\n",
       "      <td>0.148174</td>\n",
       "      <td>1.066933</td>\n",
       "      <td>35.890337</td>\n",
       "      <td>61.652381</td>\n",
       "      <td>9.334567</td>\n",
       "      <td>0.060130</td>\n",
       "      <td>1.427101e+04</td>\n",
       "      <td>48.467474</td>\n",
       "      <td>22.089645</td>\n",
       "      <td>NaN</td>\n",
       "      <td>1.0</td>\n",
       "      <td>0.129500</td>\n",
       "    </tr>\n",
       "    <tr>\n",
       "      <th>std</th>\n",
       "      <td>7468.121308</td>\n",
       "      <td>7192.633069</td>\n",
       "      <td>210.62291</td>\n",
       "      <td>48590.252757</td>\n",
       "      <td>6.754212</td>\n",
       "      <td>0.506270</td>\n",
       "      <td>1.476052</td>\n",
       "      <td>22.361443</td>\n",
       "      <td>46.189619</td>\n",
       "      <td>4.526590</td>\n",
       "      <td>0.251245</td>\n",
       "      <td>2.543791e+04</td>\n",
       "      <td>28.232809</td>\n",
       "      <td>11.622152</td>\n",
       "      <td>NaN</td>\n",
       "      <td>0.0</td>\n",
       "      <td>0.335769</td>\n",
       "    </tr>\n",
       "    <tr>\n",
       "      <th>min</th>\n",
       "      <td>500.000000</td>\n",
       "      <td>500.000000</td>\n",
       "      <td>15.69000</td>\n",
       "      <td>2000.000000</td>\n",
       "      <td>0.000000</td>\n",
       "      <td>0.000000</td>\n",
       "      <td>0.000000</td>\n",
       "      <td>0.000000</td>\n",
       "      <td>0.000000</td>\n",
       "      <td>1.000000</td>\n",
       "      <td>0.000000</td>\n",
       "      <td>0.000000e+00</td>\n",
       "      <td>0.000000</td>\n",
       "      <td>1.000000</td>\n",
       "      <td>NaN</td>\n",
       "      <td>1.0</td>\n",
       "      <td>0.000000</td>\n",
       "    </tr>\n",
       "    <tr>\n",
       "      <th>25%</th>\n",
       "      <td>5000.000000</td>\n",
       "      <td>5000.000000</td>\n",
       "      <td>163.47000</td>\n",
       "      <td>40000.000000</td>\n",
       "      <td>8.160000</td>\n",
       "      <td>0.000000</td>\n",
       "      <td>0.000000</td>\n",
       "      <td>18.000000</td>\n",
       "      <td>0.000000</td>\n",
       "      <td>6.000000</td>\n",
       "      <td>0.000000</td>\n",
       "      <td>3.524500e+03</td>\n",
       "      <td>25.000000</td>\n",
       "      <td>13.000000</td>\n",
       "      <td>NaN</td>\n",
       "      <td>1.0</td>\n",
       "      <td>0.000000</td>\n",
       "    </tr>\n",
       "    <tr>\n",
       "      <th>50%</th>\n",
       "      <td>9600.000000</td>\n",
       "      <td>9250.000000</td>\n",
       "      <td>275.11000</td>\n",
       "      <td>58000.000000</td>\n",
       "      <td>13.410000</td>\n",
       "      <td>0.000000</td>\n",
       "      <td>1.000000</td>\n",
       "      <td>34.000000</td>\n",
       "      <td>86.000000</td>\n",
       "      <td>9.000000</td>\n",
       "      <td>0.000000</td>\n",
       "      <td>8.645500e+03</td>\n",
       "      <td>48.700000</td>\n",
       "      <td>20.000000</td>\n",
       "      <td>NaN</td>\n",
       "      <td>1.0</td>\n",
       "      <td>0.000000</td>\n",
       "    </tr>\n",
       "    <tr>\n",
       "      <th>75%</th>\n",
       "      <td>15000.000000</td>\n",
       "      <td>15000.000000</td>\n",
       "      <td>427.03750</td>\n",
       "      <td>82000.000000</td>\n",
       "      <td>18.692500</td>\n",
       "      <td>0.000000</td>\n",
       "      <td>2.000000</td>\n",
       "      <td>53.000000</td>\n",
       "      <td>101.000000</td>\n",
       "      <td>12.000000</td>\n",
       "      <td>0.000000</td>\n",
       "      <td>1.695225e+04</td>\n",
       "      <td>71.900000</td>\n",
       "      <td>29.000000</td>\n",
       "      <td>NaN</td>\n",
       "      <td>1.0</td>\n",
       "      <td>0.000000</td>\n",
       "    </tr>\n",
       "    <tr>\n",
       "      <th>max</th>\n",
       "      <td>35000.000000</td>\n",
       "      <td>35000.000000</td>\n",
       "      <td>1276.60000</td>\n",
       "      <td>900000.000000</td>\n",
       "      <td>29.990000</td>\n",
       "      <td>11.000000</td>\n",
       "      <td>25.000000</td>\n",
       "      <td>120.000000</td>\n",
       "      <td>119.000000</td>\n",
       "      <td>39.000000</td>\n",
       "      <td>3.000000</td>\n",
       "      <td>1.207359e+06</td>\n",
       "      <td>108.800000</td>\n",
       "      <td>90.000000</td>\n",
       "      <td>NaN</td>\n",
       "      <td>1.0</td>\n",
       "      <td>1.000000</td>\n",
       "    </tr>\n",
       "  </tbody>\n",
       "</table>\n",
       "</div>"
      ],
      "text/plain": [
       "          loan_amnt   funded_amnt  installment     annual_inc           dti  \\\n",
       "count  10000.000000  10000.000000  10000.00000    9999.000000  10000.000000   \n",
       "mean   11035.522500  10765.972500    321.43098   68203.011539     13.338704   \n",
       "std     7468.121308   7192.633069    210.62291   48590.252757      6.754212   \n",
       "min      500.000000    500.000000     15.69000    2000.000000      0.000000   \n",
       "25%     5000.000000   5000.000000    163.47000   40000.000000      8.160000   \n",
       "50%     9600.000000   9250.000000    275.11000   58000.000000     13.410000   \n",
       "75%    15000.000000  15000.000000    427.03750   82000.000000     18.692500   \n",
       "max    35000.000000  35000.000000   1276.60000  900000.000000     29.990000   \n",
       "\n",
       "       delinq_2yrs  inq_last_6mths  mths_since_last_delinq  \\\n",
       "count  9995.000000     9995.000000             3684.000000   \n",
       "mean      0.148174        1.066933               35.890337   \n",
       "std       0.506270        1.476052               22.361443   \n",
       "min       0.000000        0.000000                0.000000   \n",
       "25%       0.000000        0.000000               18.000000   \n",
       "50%       0.000000        1.000000               34.000000   \n",
       "75%       0.000000        2.000000               53.000000   \n",
       "max      11.000000       25.000000              120.000000   \n",
       "\n",
       "       mths_since_last_record     open_acc      pub_rec     revol_bal  \\\n",
       "count              840.000000  9995.000000  9995.000000  1.000000e+04   \n",
       "mean                61.652381     9.334567     0.060130  1.427101e+04   \n",
       "std                 46.189619     4.526590     0.251245  2.543791e+04   \n",
       "min                  0.000000     1.000000     0.000000  0.000000e+00   \n",
       "25%                  0.000000     6.000000     0.000000  3.524500e+03   \n",
       "50%                 86.000000     9.000000     0.000000  8.645500e+03   \n",
       "75%                101.000000    12.000000     0.000000  1.695225e+04   \n",
       "max                119.000000    39.000000     3.000000  1.207359e+06   \n",
       "\n",
       "        revol_util    total_acc  mths_since_last_major_derog  policy_code  \\\n",
       "count  9977.000000  9995.000000                          0.0      10000.0   \n",
       "mean     48.467474    22.089645                          NaN          1.0   \n",
       "std      28.232809    11.622152                          NaN          0.0   \n",
       "min       0.000000     1.000000                          NaN          1.0   \n",
       "25%      25.000000    13.000000                          NaN          1.0   \n",
       "50%      48.700000    20.000000                          NaN          1.0   \n",
       "75%      71.900000    29.000000                          NaN          1.0   \n",
       "max     108.800000    90.000000                          NaN          1.0   \n",
       "\n",
       "        loan_status  \n",
       "count  10000.000000  \n",
       "mean       0.129500  \n",
       "std        0.335769  \n",
       "min        0.000000  \n",
       "25%        0.000000  \n",
       "50%        0.000000  \n",
       "75%        0.000000  \n",
       "max        1.000000  "
      ]
     },
     "execution_count": 27,
     "metadata": {},
     "output_type": "execute_result"
    }
   ],
   "source": [
    "df.describe()"
   ]
  },
  {
   "cell_type": "code",
   "execution_count": 28,
   "id": "af8b667b-bdda-4ce1-9577-ff3ab27f14a8",
   "metadata": {},
   "outputs": [
    {
     "data": {
      "text/plain": [
       "(10000, 35)"
      ]
     },
     "execution_count": 28,
     "metadata": {},
     "output_type": "execute_result"
    }
   ],
   "source": [
    "df.shape"
   ]
  },
  {
   "cell_type": "code",
   "execution_count": 32,
   "id": "9ef7ce2c-0e79-4d39-b2ab-8a891d5c432c",
   "metadata": {
    "tags": []
   },
   "outputs": [],
   "source": [
    "df['url'] = df['url'].astype('string')\n",
    "df['desc'] = df['desc'].astype('string')\n",
    "df['loan_status'] = df['loan_status'].astype('category')"
   ]
  },
  {
   "cell_type": "code",
   "execution_count": 33,
   "id": "7ce11f9e-5a87-4df0-8dde-a866d4f49692",
   "metadata": {
    "tags": []
   },
   "outputs": [
    {
     "data": {
      "text/plain": [
       "loan_amnt                         int64\n",
       "funded_amnt                       int64\n",
       "term                             object\n",
       "int_rate                         object\n",
       "installment                     float64\n",
       "grade                            object\n",
       "sub_grade                        object\n",
       "emp_title                        object\n",
       "emp_length                       object\n",
       "home_ownership                   object\n",
       "annual_inc                      float64\n",
       "verification_status              object\n",
       "pymnt_plan                       object\n",
       "url                              string\n",
       "desc                             string\n",
       "purpose                          object\n",
       "title                            object\n",
       "zip_code                         object\n",
       "addr_state                       object\n",
       "dti                             float64\n",
       "delinq_2yrs                     float64\n",
       "earliest_cr_line                 object\n",
       "inq_last_6mths                  float64\n",
       "mths_since_last_delinq          float64\n",
       "mths_since_last_record          float64\n",
       "open_acc                        float64\n",
       "pub_rec                         float64\n",
       "revol_bal                         int64\n",
       "revol_util                      float64\n",
       "total_acc                       float64\n",
       "initial_list_status              object\n",
       "mths_since_last_major_derog     float64\n",
       "policy_code                       int64\n",
       "loan_status                    category\n",
       "Partition                        object\n",
       "dtype: object"
      ]
     },
     "execution_count": 33,
     "metadata": {},
     "output_type": "execute_result"
    }
   ],
   "source": [
    "df.dtypes"
   ]
  },
  {
   "cell_type": "markdown",
   "id": "b7d9a567-59aa-4344-a1d0-83d380520bf7",
   "metadata": {},
   "source": [
    "# Feature Transformation"
   ]
  },
  {
   "cell_type": "code",
   "execution_count": 34,
   "id": "1f861b04-5fbe-48b8-8d43-7cd5e733b628",
   "metadata": {},
   "outputs": [],
   "source": [
    "numeric_transform = SimpleImputer(strategy='constant', fill_value=0)\n",
    "categoric_tranform = Pipeline(\n",
    "    steps=[\n",
    "        ('null_imputation', SimpleImputer(strategy='constant', fill_value='UNKNOWN')),\n",
    "        ('ordinal_encoder', OrdinalEncoder(handle_unknown='use_encoded_value', unknown_value=-1))\n",
    "    ]\n",
    ")"
   ]
  },
  {
   "cell_type": "code",
   "execution_count": 35,
   "id": "d9121217-c03e-4b16-93d9-10f106467c61",
   "metadata": {},
   "outputs": [],
   "source": [
    "# Col transfomer automatically handles right cols via datatypes\n",
    "col_transformer = ColumnTransformer(\n",
    "    transformers=[\n",
    "        ('numeric', numeric_transform, make_column_selector(dtype_include=[float,int])),\n",
    "        ('categoric', categoric_tranform, make_column_selector(dtype_include=object))\n",
    "    ]\n",
    ")"
   ]
  },
  {
   "cell_type": "markdown",
   "id": "bd07137a-1ed8-45fd-b1f3-0c071befcbae",
   "metadata": {},
   "source": [
    "# Partitioning"
   ]
  },
  {
   "cell_type": "code",
   "execution_count": 37,
   "id": "27a046e3-d7ab-4f64-bfc9-c78ecb727bae",
   "metadata": {},
   "outputs": [],
   "source": [
    "training_data = df[df['Partition'] == \"T\"].drop(labels=['Partition'], axis=1)"
   ]
  },
  {
   "cell_type": "code",
   "execution_count": 38,
   "id": "4751df11-463b-48b0-9f27-4a4cd12c1462",
   "metadata": {},
   "outputs": [
    {
     "data": {
      "text/plain": [
       "(6400, 34)"
      ]
     },
     "execution_count": 38,
     "metadata": {},
     "output_type": "execute_result"
    }
   ],
   "source": [
    "training_data.shape"
   ]
  },
  {
   "cell_type": "code",
   "execution_count": 40,
   "id": "856be3f3-63ef-4328-9276-ec7af032c7fc",
   "metadata": {},
   "outputs": [],
   "source": [
    "validation_data = df[df['Partition'] == \"V\"].drop(labels=['Partition'], axis=1)"
   ]
  },
  {
   "cell_type": "code",
   "execution_count": 41,
   "id": "a55f985c-bc0a-4b2c-8c5b-0fc9cfcd412f",
   "metadata": {},
   "outputs": [
    {
     "data": {
      "text/plain": [
       "(1600, 34)"
      ]
     },
     "execution_count": 41,
     "metadata": {},
     "output_type": "execute_result"
    }
   ],
   "source": [
    "validation_data.shape"
   ]
  },
  {
   "cell_type": "code",
   "execution_count": 42,
   "id": "7584f21f-c283-4d08-b66a-bbb6b36fd038",
   "metadata": {},
   "outputs": [],
   "source": [
    "X_train = training_data.drop(labels='loan_status', axis=1)\n",
    "y_train = training_data['loan_status']\n",
    "X_val = validation_data.drop(labels='loan_status', axis=1)\n",
    "y_val = validation_data['loan_status']"
   ]
  },
  {
   "cell_type": "markdown",
   "id": "fb6eb66a-9f0d-4cd4-8b79-68ee64800866",
   "metadata": {},
   "source": [
    "# Set up MLflow for Experiment Tracking"
   ]
  },
  {
   "cell_type": "code",
   "execution_count": 14,
   "id": "2ef68334-e550-4e7b-9c72-e825eff0681e",
   "metadata": {},
   "outputs": [
    {
     "data": {
      "text/plain": [
       "<Experiment: artifact_location='mlflow-artifacts:/379835271244432248', creation_time=1675537719388, experiment_id='379835271244432248', last_update_time=1675537719388, lifecycle_stage='active', name='kaggle_lending_club_xgboost', tags={}>"
      ]
     },
     "execution_count": 14,
     "metadata": {},
     "output_type": "execute_result"
    }
   ],
   "source": [
    "mlflow.set_tracking_uri('http://127.0.0.1:5000')\n",
    "mlflow.set_experiment(experiment_name=\"kaggle_lending_club_xgboost\")"
   ]
  },
  {
   "cell_type": "code",
   "execution_count": 15,
   "id": "b76cb7b1-bf08-4361-a1f4-82a55be2b5cc",
   "metadata": {},
   "outputs": [],
   "source": [
    "mlflow.xgboost.autolog()"
   ]
  },
  {
   "cell_type": "code",
   "execution_count": 16,
   "id": "13260c1f-8f87-49b3-bb3e-534f2c9e26ee",
   "metadata": {},
   "outputs": [],
   "source": [
    "my_run_id = datetime.today().strftime('%Y-%m-%d_%H:%M:%S')\n",
    "my_run_name=\"demo\" + \" \" + my_run_id\n",
    "run = mlflow.start_run(run_name=my_run_name)"
   ]
  },
  {
   "cell_type": "code",
   "execution_count": 17,
   "id": "9e7a729e-82a9-40d2-a8b5-e3391cc582ff",
   "metadata": {},
   "outputs": [],
   "source": [
    "mlflow.set_tag(\"Use Case Owner\", \"Dan Esposito\")\n",
    "mlflow.set_tag(\"Data Scientist\", \"Zhilei Ma\")"
   ]
  },
  {
   "cell_type": "markdown",
   "id": "0fbc9603-d5ee-4257-a996-a14a05b5d812",
   "metadata": {},
   "source": [
    "# Model Training & Evalution"
   ]
  },
  {
   "cell_type": "code",
   "execution_count": 50,
   "id": "b4847027-2062-4f97-94f5-0924a4deb30b",
   "metadata": {},
   "outputs": [],
   "source": [
    "xgb_model = XGBClassifier(\n",
    "    learning_rate=.1,\n",
    "    n_estimators=100,\n",
    "    objective=\"binary:logistic\",\n",
    "    eval_metric=[\"logloss\"],\n",
    "    early_stopping_rounds=10,\n",
    "    verbose=True\n",
    ")"
   ]
  },
  {
   "cell_type": "code",
   "execution_count": 51,
   "id": "23a0aaab-2648-4a9c-9361-763e0d37c3a9",
   "metadata": {},
   "outputs": [],
   "source": [
    "# Creates the model pipeline object:\n",
    "model = Pipeline(\n",
    "    steps=[\n",
    "        ('col_transformer', col_transformer),\n",
    "        ('model', xgb_model)\n",
    "    ]\n",
    ")"
   ]
  },
  {
   "cell_type": "code",
   "execution_count": 52,
   "id": "2b9ab6f6-0d58-45cf-a786-92242b8ea164",
   "metadata": {},
   "outputs": [
    {
     "data": {
      "text/plain": [
       "Pipeline(steps=[('col_transformer',\n",
       "                 ColumnTransformer(transformers=[('numeric',\n",
       "                                                  SimpleImputer(fill_value=0,\n",
       "                                                                strategy='constant'),\n",
       "                                                  <sklearn.compose._column_transformer.make_column_selector object at 0x13ae3cf10>),\n",
       "                                                 ('categoric',\n",
       "                                                  Pipeline(steps=[('null_imputation',\n",
       "                                                                   SimpleImputer(fill_value='UNKNOWN',\n",
       "                                                                                 strategy='constant')),\n",
       "                                                                  ('ordinal_encoder',\n",
       "                                                                   OrdinalEncoder(handle_unknown='use_encoded_value',\n",
       "                                                                                  unknown_value=-1))]),\n",
       "                                                  <sklearn.compose._column_transformer.make_column_selector object at 0x13ae3c4c0>)]))])"
      ]
     },
     "execution_count": 52,
     "metadata": {},
     "output_type": "execute_result"
    }
   ],
   "source": [
    "model[:-1].fit(X_train)"
   ]
  },
  {
   "cell_type": "code",
   "execution_count": 53,
   "id": "739e4528-e1ed-498d-81bf-6f4fef0ff965",
   "metadata": {},
   "outputs": [],
   "source": [
    "X_val = model[:-1].transform(X_val)"
   ]
  },
  {
   "cell_type": "code",
   "execution_count": 54,
   "id": "52cf9804-9c18-436d-a3fe-057e8c89406b",
   "metadata": {},
   "outputs": [
    {
     "name": "stdout",
     "output_type": "stream",
     "text": [
      "[16:48:51] WARNING: /Users/runner/work/xgboost/xgboost/python-package/build/temp.macosx-10.9-x86_64-cpython-38/xgboost/src/learner.cc:767: \n",
      "Parameters: { \"verbose\" } are not used.\n",
      "\n",
      "[0]\tvalidation_0-logloss:0.63953\n",
      "[1]\tvalidation_0-logloss:0.60007\n",
      "[2]\tvalidation_0-logloss:0.56439\n",
      "[3]\tvalidation_0-logloss:0.53543\n",
      "[4]\tvalidation_0-logloss:0.51101\n",
      "[5]\tvalidation_0-logloss:0.49954\n",
      "[6]\tvalidation_0-logloss:0.48170\n",
      "[7]\tvalidation_0-logloss:0.47235\n",
      "[8]\tvalidation_0-logloss:0.46104\n",
      "[9]\tvalidation_0-logloss:0.44928\n",
      "[10]\tvalidation_0-logloss:0.44428\n",
      "[11]\tvalidation_0-logloss:0.43730\n",
      "[12]\tvalidation_0-logloss:0.42820\n",
      "[13]\tvalidation_0-logloss:0.42320\n",
      "[14]\tvalidation_0-logloss:0.41836\n",
      "[15]\tvalidation_0-logloss:0.41247\n",
      "[16]\tvalidation_0-logloss:0.40747\n",
      "[17]\tvalidation_0-logloss:0.40338\n",
      "[18]\tvalidation_0-logloss:0.40091\n",
      "[19]\tvalidation_0-logloss:0.39694\n",
      "[20]\tvalidation_0-logloss:0.39480\n",
      "[21]\tvalidation_0-logloss:0.39330\n",
      "[22]\tvalidation_0-logloss:0.39104\n",
      "[23]\tvalidation_0-logloss:0.38991\n",
      "[24]\tvalidation_0-logloss:0.38808\n",
      "[25]\tvalidation_0-logloss:0.38708\n",
      "[26]\tvalidation_0-logloss:0.38551\n",
      "[27]\tvalidation_0-logloss:0.38539\n",
      "[28]\tvalidation_0-logloss:0.38389\n",
      "[29]\tvalidation_0-logloss:0.38377\n",
      "[30]\tvalidation_0-logloss:0.38306\n",
      "[31]\tvalidation_0-logloss:0.38262\n",
      "[32]\tvalidation_0-logloss:0.38180\n",
      "[33]\tvalidation_0-logloss:0.38181\n",
      "[34]\tvalidation_0-logloss:0.38194\n",
      "[35]\tvalidation_0-logloss:0.38149\n",
      "[36]\tvalidation_0-logloss:0.38162\n",
      "[37]\tvalidation_0-logloss:0.38148\n",
      "[38]\tvalidation_0-logloss:0.38071\n",
      "[39]\tvalidation_0-logloss:0.38119\n",
      "[40]\tvalidation_0-logloss:0.38064\n",
      "[41]\tvalidation_0-logloss:0.38112\n",
      "[42]\tvalidation_0-logloss:0.38156\n",
      "[43]\tvalidation_0-logloss:0.38135\n",
      "[44]\tvalidation_0-logloss:0.38166\n",
      "[45]\tvalidation_0-logloss:0.38171\n",
      "[46]\tvalidation_0-logloss:0.38156\n",
      "[47]\tvalidation_0-logloss:0.38156\n",
      "[48]\tvalidation_0-logloss:0.38219\n",
      "[49]\tvalidation_0-logloss:0.38195\n"
     ]
    },
    {
     "data": {
      "text/plain": [
       "Pipeline(steps=[('col_transformer',\n",
       "                 ColumnTransformer(transformers=[('numeric',\n",
       "                                                  SimpleImputer(fill_value=0,\n",
       "                                                                strategy='constant'),\n",
       "                                                  <sklearn.compose._column_transformer.make_column_selector object at 0x13ae3cf10>),\n",
       "                                                 ('categoric',\n",
       "                                                  Pipeline(steps=[('null_imputation',\n",
       "                                                                   SimpleImputer(fill_value='UNKNOWN',\n",
       "                                                                                 strategy='constant')),\n",
       "                                                                  ('ordinal_encoder',\n",
       "                                                                   OrdinalEncoder(handle...\n",
       "                               eval_metric=['logloss'], feature_types=None,\n",
       "                               gamma=0, gpu_id=-1, grow_policy='depthwise',\n",
       "                               importance_type=None, interaction_constraints='',\n",
       "                               learning_rate=0.1, max_bin=256,\n",
       "                               max_cat_threshold=64, max_cat_to_onehot=4,\n",
       "                               max_delta_step=0, max_depth=6, max_leaves=0,\n",
       "                               min_child_weight=1, missing=nan,\n",
       "                               monotone_constraints='()', n_estimators=100,\n",
       "                               n_jobs=0, num_parallel_tree=1, predictor='auto',\n",
       "                               random_state=0, ...))])"
      ]
     },
     "execution_count": 54,
     "metadata": {},
     "output_type": "execute_result"
    }
   ],
   "source": [
    "model.fit(\n",
    "    X_train, \n",
    "    y_train, \n",
    "    model__eval_set=[(X_val, y_val)]\n",
    ")"
   ]
  },
  {
   "cell_type": "code",
   "execution_count": 55,
   "id": "ae89e9e2-e888-4549-8336-e221a643c238",
   "metadata": {},
   "outputs": [],
   "source": [
    "eval_results = model.named_steps['model'].evals_result()"
   ]
  },
  {
   "cell_type": "markdown",
   "id": "c7a10433-b618-44dd-a8b7-208aaf16ace4",
   "metadata": {},
   "source": [
    "# Log The Learning Curve in MLflow"
   ]
  },
  {
   "cell_type": "code",
   "execution_count": 56,
   "id": "f2d74b19-9a1b-453f-a0a4-23df6ac5a2a5",
   "metadata": {},
   "outputs": [
    {
     "data": {
      "image/png": "[encoded data removed]",
      "text/plain": [
       "<Figure size 640x480 with 1 Axes>"
      ]
     },
     "metadata": {},
     "output_type": "display_data"
    }
   ],
   "source": [
    "plt.plot(eval_results['validation_0']['logloss'], label='logloss')\n",
    "plt.xlabel('Estimators')\n",
    "plt.ylabel('Error')\n",
    "plt.title('Learning Curve of the XGBoost Model')\n",
    "plt.legend(['Logloss'])\n",
    "\n",
    "\n",
    "# save the figure\n",
    "plt.savefig('./artifact/learning_curve.png', dpi=300, bbox_inches='tight')\n",
    "\n",
    "\n",
    "plt.show()"
   ]
  },
  {
   "cell_type": "code",
   "execution_count": 57,
   "id": "c40fb247-504e-49b7-8e3c-cd5deec673f9",
   "metadata": {},
   "outputs": [],
   "source": [
    "# Log the plotted learning curve in MLflow \n",
    "mlflow.log_artifact(\"./artifact/learning_curve.png\")"
   ]
  },
  {
   "cell_type": "markdown",
   "id": "e763440b-38fe-4115-a8d8-62f06a7881f9",
   "metadata": {},
   "source": [
    "# Serialization"
   ]
  },
  {
   "cell_type": "code",
   "execution_count": 58,
   "id": "099e9268-8a98-4afe-b5a2-5fb2adf56614",
   "metadata": {},
   "outputs": [
    {
     "data": {
      "text/plain": [
       "['model.pkl']"
      ]
     },
     "execution_count": 58,
     "metadata": {},
     "output_type": "execute_result"
    }
   ],
   "source": [
    "# Serialize and save the trained model\n",
    "joblib.dump(model, \"model.pkl\")"
   ]
  },
  {
   "cell_type": "markdown",
   "id": "21b084dd-8af3-4c3d-99f8-16fdb5ca0d9c",
   "metadata": {},
   "source": [
    "# Test & Validate Locally"
   ]
  },
  {
   "cell_type": "code",
   "execution_count": 1,
   "id": "5b98b530-5184-449b-a34a-98255cf95c50",
   "metadata": {},
   "outputs": [
    {
     "name": "stdout",
     "output_type": "stream",
     "text": [
      "pyenv: drum: command not found\n",
      "\n",
      "The `drum' command exists in these Python versions:\n",
      "  3.9.7\n",
      "\n",
      "Note: See 'pyenv help global' for tips on allowing both\n",
      "      python2 and python3 to be found.\n"
     ]
    }
   ],
   "source": [
    "!drum score -cd . --input ./dataset/demo_lending_club_scoring_10k.csv \\\n",
    "--target-type binary --positive-class-label 1 --negative-class-label 0 \\\n",
    "--verbose"
   ]
  },
  {
   "cell_type": "code",
   "execution_count": 28,
   "id": "fb48e1f6-7a33-473b-8fe7-f74bee66c7ce",
   "metadata": {},
   "outputs": [
    {
     "name": "stdout",
     "output_type": "stream",
     "text": [
      "\n",
      "\n",
      "Validation checks results\n",
      "      Test case          Status   Details\n",
      "=========================================\n",
      "Basic batch prediction   PASSED          \n",
      "Null value imputation    PASSED          \n"
     ]
    }
   ],
   "source": [
    "!drum validation  --code-dir . --input ./dataset/demo_lending_club_scoring_10k.csv \\\n",
    "--target-type binary --positive-class-label 1 --negative-class-label 0"
   ]
  },
  {
   "cell_type": "code",
   "execution_count": 29,
   "id": "3e1442bf-b48a-4ec4-990c-ff692ac45c49",
   "metadata": {},
   "outputs": [
    {
     "name": "stdout",
     "output_type": "stream",
     "text": [
      "usage: drum [-h] [--version]\n",
      "            {score,fit,perf-test,validation,server,new,push} ...\n",
      "\n",
      "Run user model\n",
      "\n",
      "positional arguments:\n",
      "  {score,fit,perf-test,validation,server,new,push}\n",
      "                        Commands\n",
      "    score               Run predictions in batch mode\n",
      "    fit                 Fit your model to your data\n",
      "    perf-test           Run performance tests\n",
      "    validation          Run validation checks against the model\n",
      "    server              serve the model via REST APIs\n",
      "    new                 Create new model/env template\n",
      "    push                Add your modeling code into DataRobot\n",
      "\n",
      "optional arguments:\n",
      "  -h, --help            show this help message and exit\n",
      "  --version             show program's version number and exit\n"
     ]
    }
   ],
   "source": [
    "!drum --help"
   ]
  },
  {
   "cell_type": "code",
   "execution_count": null,
   "id": "6864c8c5-e6f8-4254-aed5-1386d91eb5f9",
   "metadata": {},
   "outputs": [],
   "source": []
  }
 ],
 "metadata": {
  "kernelspec": {
   "display_name": "lending_club_xgboost",
   "language": "python",
   "name": "lending_club_xgboost"
  },
  "language_info": {
   "codemirror_mode": {
    "name": "ipython",
    "version": 3
   },
   "file_extension": ".py",
   "mimetype": "text/x-python",
   "name": "python",
   "nbconvert_exporter": "python",
   "pygments_lexer": "ipython3",
   "version": "3.11.0"
  }
 },
 "nbformat": 4,
 "nbformat_minor": 5
}
