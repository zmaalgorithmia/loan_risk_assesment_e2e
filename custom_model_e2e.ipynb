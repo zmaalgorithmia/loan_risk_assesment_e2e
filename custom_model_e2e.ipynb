{
 "cells": [
  {
   "cell_type": "code",
   "execution_count": 1,
   "metadata": {
    "colab": {
     "base_uri": "https://localhost:8080/"
    },
    "id": "uXe8f7VCZPwG",
    "outputId": "2ab17cea-9c42-4466-b1fd-b0c478cab1a4"
   },
   "outputs": [],
   "source": [
    "import datarobot as dr\n",
    "from datetime import datetime\n",
    "import json\n",
    "import os\n",
    "import requests\n",
    "import time"
   ]
  },
  {
   "cell_type": "markdown",
   "metadata": {
    "id": "LATi3lKuc2Uy"
   },
   "source": [
    "# Preparation"
   ]
  },
  {
   "cell_type": "code",
   "execution_count": 2,
   "metadata": {},
   "outputs": [],
   "source": [
    "MANIFEST_JSON_FILE_PATH = \"config/manifest.json\""
   ]
  },
  {
   "cell_type": "code",
   "execution_count": 3,
   "metadata": {
    "colab": {
     "base_uri": "https://localhost:8080/",
     "height": 329
    },
    "id": "iBsFBHMOS142",
    "outputId": "506217ab-0400-4587-def4-188f06025e72"
   },
   "outputs": [
    {
     "name": "stdout",
     "output_type": "stream",
     "text": [
      "{\n",
      "    \"custom_model\": {\n",
      "        \"custom_model_id\": \"\",\n",
      "        \"description\": \"Showcase automated model testing, documentaiton, registeration, and deployment using the DataRobot API.\",\n",
      "        \"language\": \"Python\",\n",
      "        \"name\": \"[API] Kaggle Lending Club XGBoost\",\n",
      "        \"negative_class_label\": \"0\",\n",
      "        \"positive_class_label\": \"1\",\n",
      "        \"target_name\": \"loan_status\",\n",
      "        \"target_type\": \"Binary\"\n",
      "    },\n",
      "    \"custom_model_version\": {\n",
      "        \"description\": \"Model trained using XGBoost and Scikit-Learn Simple Imputer.\",\n",
      "        \"folder_path\": \"./deploy\",\n",
      "        \"is_major_update\": true,\n",
      "        \"version_id\": \"\"\n",
      "    },\n",
      "    \"datarobot_endpoint\": \"https://app.datarobot.com/api/v2/\",\n",
      "    \"log_path\": \"./log/\",\n",
      "    \"model_documentation\": {\n",
      "        \"document_type\": \"MODEL_COMPLIANCE\",\n",
      "        \"file_path\": \"./model_documentation/\",\n",
      "        \"output_format\": \"docx\",\n",
      "        \"template_id\": \"62cc96c64c10f548b87b4918\",\n",
      "        \"template_name\": \"Customized Model Documentation Binary\"\n",
      "    },\n",
      "    \"model_environment\": {\n",
      "        \"log_path\": \"\",\n",
      "        \"model_environment_id\": \"5e8c889607389fe0f466c72d\",\n",
      "        \"model_environment_name\": \"[DataRobot] Python 3.9 Scikit-Learn Drop-In\"\n",
      "    },\n",
      "    \"model_package\": {\n",
      "        \"model_package_id\": \"\"\n",
      "    },\n",
      "    \"model_test\": {\n",
      "        \"file_path\": \"./dataset/demo_lending_club_scoring_10k.csv\",\n",
      "        \"log_path\": \"\",\n",
      "        \"test_data_id\": \"63e92440fc55a21b06112efe\"\n",
      "    },\n",
      "    \"training_data\": {\n",
      "        \"file_path\": \"./dataset/demo_lending_club_training_complete_with_partition.csv\",\n",
      "        \"training_data_id\": \"63e92440df5b48fc9c39b812\"\n",
      "    }\n",
      "}\n"
     ]
    }
   ],
   "source": [
    "# Read metadata of the custom model from the model manifest.json file.\n",
    "f = open(MANIFEST_JSON_FILE_PATH)\n",
    "\n",
    "# Returns JSON object as a dictionary\n",
    "manifest = json.load(f)\n",
    "\n",
    "print(json.dumps(manifest, indent=4, sort_keys=True, separators=(',', ': ')))"
   ]
  },
  {
   "cell_type": "code",
   "execution_count": 4,
   "metadata": {
    "id": "67Syx_IGZ-4U"
   },
   "outputs": [],
   "source": [
    "DATAROBOT_API_ENDPOINT = manifest['datarobot_endpoint']\n",
    "DATAROBOT_API_KEY = os.getenv(\"DATAROBOT_API_KEY\")"
   ]
  },
  {
   "cell_type": "code",
   "execution_count": 5,
   "metadata": {
    "id": "eJguVDkMkhgt"
   },
   "outputs": [],
   "source": [
    "client = dr.Client(\n",
    "    token=DATAROBOT_API_KEY,\n",
    "    endpoint=DATAROBOT_API_ENDPOINT,\n",
    ")"
   ]
  },
  {
   "cell_type": "markdown",
   "metadata": {},
   "source": [
    "# Create Custom Model on DataRobot"
   ]
  },
  {
   "cell_type": "code",
   "execution_count": 6,
   "metadata": {},
   "outputs": [],
   "source": [
    "custom_model_manifest = manifest['custom_model']"
   ]
  },
  {
   "cell_type": "code",
   "execution_count": 7,
   "metadata": {
    "id": "2UTMZ8juMXBo"
   },
   "outputs": [
    {
     "name": "stdout",
     "output_type": "stream",
     "text": [
      "Custom model ID: 63e97c45d48f644a57d412b4\n"
     ]
    }
   ],
   "source": [
    "# Create a custom model using the metadata specified in the manifest.\n",
    "\n",
    "if custom_model_manifest['custom_model_id'] == \"\":\n",
    "    custom_model = dr.CustomInferenceModel.create(\n",
    "      name=custom_model_manifest['name'] + \" \" + datetime.today().strftime('%Y-%m-%d_%H:%M:%S'),\n",
    "      target_type=custom_model_manifest['target_type'],\n",
    "      target_name=custom_model_manifest['target_name'],\n",
    "      language=custom_model_manifest['language']\n",
    "    )\n",
    "    \n",
    "    custom_model_id = custom_model.id\n",
    "    custom_model_manifest['custom_model_id'] = custom_model_id\n",
    "    print(f\"Custom model ID: {custom_model_id}\")"
   ]
  },
  {
   "cell_type": "code",
   "execution_count": 8,
   "metadata": {},
   "outputs": [
    {
     "name": "stdout",
     "output_type": "stream",
     "text": [
      "{\n",
      "    \"custom_model_id\": \"63e97c45d48f644a57d412b4\",\n",
      "    \"description\": \"Showcase automated model testing, documentaiton, registeration, and deployment using the DataRobot API.\",\n",
      "    \"language\": \"Python\",\n",
      "    \"name\": \"[API] Kaggle Lending Club XGBoost\",\n",
      "    \"negative_class_label\": \"0\",\n",
      "    \"positive_class_label\": \"1\",\n",
      "    \"target_name\": \"loan_status\",\n",
      "    \"target_type\": \"Binary\"\n",
      "}\n"
     ]
    }
   ],
   "source": [
    "print(json.dumps(manifest['custom_model'], indent=4, sort_keys=True, separators=(',', ': ')))"
   ]
  },
  {
   "cell_type": "code",
   "execution_count": 9,
   "metadata": {
    "colab": {
     "base_uri": "https://localhost:8080/"
    },
    "id": "kgSEUUCqiKD1",
    "outputId": "3a89b872-5355-4a4a-fada-212efe4d7fd4"
   },
   "outputs": [
    {
     "name": "stdout",
     "output_type": "stream",
     "text": [
      "Model environment ID: 5e8c889607389fe0f466c72d\n"
     ]
    }
   ],
   "source": [
    "# Specify model environment using model environment id in the manifest.\n",
    "\n",
    "model_environment_id = manifest['model_environment']['model_environment_id']\n",
    "\n",
    "if model_environment_id == \"\":\n",
    "    raise ValueError(\"Please provide a model environment id.\")\n",
    "    print(\"Environment id is missing in the manifest json file.\")\n",
    "    \n",
    "print(f\"Model environment ID: {model_environment_id}\")"
   ]
  },
  {
   "cell_type": "markdown",
   "metadata": {},
   "source": [
    "## Create a new version of the custom model"
   ]
  },
  {
   "cell_type": "code",
   "execution_count": 10,
   "metadata": {
    "id": "Qaq2w_cBg4GX"
   },
   "outputs": [],
   "source": [
    "# Create a new version to hold model content that we are going to upload from the folder path. \n",
    "'''\n",
    "    When running this script from a git repot, for example,  using Jenkins or Bitbucket Pipeline, \n",
    "    the folder path points to the git folder where model content for the custom model are stored.\n",
    "'''\n",
    "\n",
    "custom_model_version = dr.CustomModelVersion.create_clean(\n",
    "    custom_model_id = custom_model_id,\n",
    "    base_environment_id = model_environment_id,\n",
    "    is_major_update = manifest['custom_model_version']['is_major_update'],\n",
    "    folder_path= manifest['custom_model_version']['folder_path'], \n",
    ")"
   ]
  },
  {
   "cell_type": "code",
   "execution_count": 11,
   "metadata": {},
   "outputs": [],
   "source": [
    "custom_model_version.update(\n",
    "    description = manifest['custom_model_version']['description']\n",
    ")"
   ]
  },
  {
   "cell_type": "code",
   "execution_count": 12,
   "metadata": {
    "id": "-yEWQhbuqfgw"
   },
   "outputs": [
    {
     "name": "stdout",
     "output_type": "stream",
     "text": [
      "Custom model version ID: 63e97c51d5f7d318ef2fd826\n"
     ]
    }
   ],
   "source": [
    "# Capture custom model version ID and add it to the manifest.\n",
    "\n",
    "custom_model_version_id = custom_model_version.id\n",
    "manifest['custom_model_version']['version_id'] = custom_model_version_id\n",
    "print(f\"Custom model version ID: {custom_model_version_id}\")"
   ]
  },
  {
   "cell_type": "code",
   "execution_count": 13,
   "metadata": {},
   "outputs": [
    {
     "name": "stdout",
     "output_type": "stream",
     "text": [
      "Custom model version v1.0\n"
     ]
    }
   ],
   "source": [
    "custom_model_version = custom_model_version.label\n",
    "manifest['custom_model_version']['version'] = custom_model_version\n",
    "print(f\"Custom model version {custom_model_version}\")"
   ]
  },
  {
   "cell_type": "markdown",
   "metadata": {},
   "source": [
    "## Build the model environment and dependencies"
   ]
  },
  {
   "cell_type": "code",
   "execution_count": 14,
   "metadata": {
    "id": "Qmp_uPAQnfLJ"
   },
   "outputs": [],
   "source": [
    "# Build model environment with the model content and dependencies for later use. \n",
    "\n",
    "build_info = dr.CustomModelVersionDependencyBuild.start_build(\n",
    "  custom_model_id=custom_model_id,\n",
    "  custom_model_version_id=custom_model_version_id,\n",
    "  max_wait=3600,\n",
    ")"
   ]
  },
  {
   "cell_type": "code",
   "execution_count": 15,
   "metadata": {
    "colab": {
     "base_uri": "https://localhost:8080/"
    },
    "id": "sjUIdXzeqCvR",
    "outputId": "d0fb60a3-ab56-401d-911a-26a6cc334be5"
   },
   "outputs": [],
   "source": [
    "log = build_info.get_log()\n",
    "\n",
    "log_file_path = f\"{manifest['log_path']}model_build_log_{custom_model_id}_{model_environment_id}_{datetime.now().strftime('%Y-%m-%d_%H:%M:%S')}.txt\"\n",
    "\n",
    "with open(log_file_path, \"w\") as text_file:\n",
    "    text_file.write(log)\n",
    "    \n",
    "manifest['model_environment']['log_path'] = log_file_path"
   ]
  },
  {
   "cell_type": "markdown",
   "metadata": {},
   "source": [
    "## Associte training data with the custom model"
   ]
  },
  {
   "cell_type": "code",
   "execution_count": 16,
   "metadata": {},
   "outputs": [
    {
     "name": "stdout",
     "output_type": "stream",
     "text": [
      "Training dataset id: 63e92440df5b48fc9c39b812\n"
     ]
    }
   ],
   "source": [
    "# Associate training data with the custom model.\n",
    "\n",
    "if manifest['training_data']['training_data_id'] == \"\":\n",
    "    training_data = dr.Dataset.create_from_file(\n",
    "        file_path = manifest['training_data']['file_path']\n",
    "    )\n",
    "    \n",
    "    training_data_id = training_data.id\n",
    "    manifest['training_data']['training_data_id'] = training_data_id\n",
    "else: \n",
    "    training_data_id = manifest['training_data']['training_data_id']\n",
    "\n",
    "print(f\"Training dataset id: {training_data_id}\")"
   ]
  },
  {
   "cell_type": "code",
   "execution_count": 17,
   "metadata": {},
   "outputs": [],
   "source": [
    "custom_model.assign_training_data(training_data_id, partition_column=\"Partition\", max_wait=3600)"
   ]
  },
  {
   "cell_type": "markdown",
   "metadata": {},
   "source": [
    "# Run Custom Model Test"
   ]
  },
  {
   "cell_type": "code",
   "execution_count": 18,
   "metadata": {
    "colab": {
     "base_uri": "https://localhost:8080/"
    },
    "id": "TlKox7uyvhEf",
    "outputId": "bbae3388-a0b1-42a5-c34f-368d359c105d"
   },
   "outputs": [
    {
     "name": "stdout",
     "output_type": "stream",
     "text": [
      "Test dataset ID: 63e92440fc55a21b06112efe\n"
     ]
    }
   ],
   "source": [
    "# Provide data for custom model test.\n",
    "\n",
    "if manifest['model_test']['test_data_id'] == \"\":\n",
    "    test_dataset = dr.Dataset.create_from_file(\n",
    "        file_path = manifest['test_data']['file_path'],\n",
    "        max_wait = 3600\n",
    "    )\n",
    "\n",
    "    test_data_id = test_dataset.id\n",
    "    manifest['model_test']['test_data_id'] = test_data_id\n",
    "else:\n",
    "    test_data_id = manifest['model_test']['test_data_id']\n",
    "\n",
    "print(f\"Test dataset ID: {test_data_id}\")"
   ]
  },
  {
   "cell_type": "code",
   "execution_count": 19,
   "metadata": {
    "colab": {
     "base_uri": "https://localhost:8080/",
     "height": 235
    },
    "id": "PvxZkvYKqPLk",
    "outputId": "2315acd8-a5c9-42fe-830b-93f413e510d2"
   },
   "outputs": [
    {
     "name": "stdout",
     "output_type": "stream",
     "text": [
      "The custom model test is succeeded\n"
     ]
    }
   ],
   "source": [
    "import time\n",
    "\n",
    "attempts = 5\n",
    "\n",
    "while attempts > 0: \n",
    "    try:\n",
    "        custom_model_test = dr.CustomModelTest.create(\n",
    "          custom_model_id=custom_model_id,\n",
    "          custom_model_version_id=custom_model_version_id,\n",
    "          dataset_id=test_data_id,\n",
    "          max_wait=3600,\n",
    "        )\n",
    "    except dr.errors.ClientError as e:\n",
    "        print(e)\n",
    "        if \"Only 1 active Custom Model Testing is allowed\" in str(e):\n",
    "            attempts -= 1\n",
    "            print(f\"Waiting for 60 seconds to try again...remaining attempts {attemps}\")\n",
    "            time.sleep (60)\n",
    "    except Exception as e:\n",
    "        print(e)\n",
    "    else:\n",
    "        attempts = 0\n",
    "\n",
    "print(f\"The custom model test is {custom_model_test.overall_status}\")"
   ]
  },
  {
   "cell_type": "code",
   "execution_count": 20,
   "metadata": {},
   "outputs": [],
   "source": [
    "# Download the log file to a directory. \n",
    "\n",
    "log = custom_model_test.get_log()\n",
    "\n",
    "log_file_path = f\"{manifest['log_path']}model_test_log_{custom_model_id}_{custom_model_version}_{datetime.now().strftime('%Y-%m-%d_%H:%M:%S')}.txt\"\n",
    "\n",
    "with open(log_file_path, \"w\") as text_file:\n",
    "    text_file.write(log)\n",
    "    \n",
    "manifest['model_test']['log_path'] = log_file_path"
   ]
  },
  {
   "cell_type": "markdown",
   "metadata": {},
   "source": [
    "# Register a Custom Model Version to Model Registry"
   ]
  },
  {
   "cell_type": "code",
   "execution_count": 21,
   "metadata": {},
   "outputs": [],
   "source": [
    "# Register a specific version of the custom mdoel to the model registry.\n",
    "\n",
    "register_model_package_endpoint = \"modelPackages/fromCustomModelVersion/\"\n",
    "\n",
    "request_body = {\n",
    "    \"customModelVersionId\": custom_model_version_id,\n",
    "}\n",
    "\n",
    "model_registry_resp = client.post(register_model_package_endpoint, data=request_body)"
   ]
  },
  {
   "cell_type": "code",
   "execution_count": 22,
   "metadata": {},
   "outputs": [
    {
     "name": "stdout",
     "output_type": "stream",
     "text": [
      "Model Package ID: 63e984246819683a4e113119\n"
     ]
    }
   ],
   "source": [
    "# Update manifest with the model pakcage id of the registerd custom model.\n",
    "\n",
    "model_package_id = model_registry_resp.json()['id']\n",
    "\n",
    "manifest['model_package']['model_package_id'] = model_package_id\n",
    "\n",
    "print(f\"Model Package ID: {model_package_id}\")"
   ]
  },
  {
   "cell_type": "markdown",
   "metadata": {
    "id": "tYrPngft0v5D"
   },
   "source": [
    "# Generate Model Documentation for Custom Model"
   ]
  },
  {
   "cell_type": "code",
   "execution_count": null,
   "metadata": {
    "colab": {
     "base_uri": "https://localhost:8080/"
    },
    "id": "ttCTDru6uaGd",
    "outputId": "61bf6c00-1fb8-40d5-e7bd-75e03d287fd1"
   },
   "outputs": [],
   "source": [
    "doc = dr.AutomatedDocument(\n",
    "    document_type = manifest['model_documentation']['document_type'],\n",
    "    entity_id = model_package_id,\n",
    "    output_format = manifest['model_documentation']['output_format'],\n",
    "    template_id = manifest['model_documentation']['template_id']\n",
    ")"
   ]
  },
  {
   "cell_type": "code",
   "execution_count": null,
   "metadata": {},
   "outputs": [],
   "source": [
    "# Automated compliance documentation needs to be initialized first, \n",
    "# so that feature assoication, partial dependencies,and such can be calculated by DataRobot.\n",
    "\n",
    "if not doc.is_model_compliance_initialized[0]:\n",
    "    try:\n",
    "        doc.initialize_model_compliance()\n",
    "        print(\"Model documentation has been initialized.\")\n",
    "    except AsyncTimeoutError as e:\n",
    "        while not doc.is_model_compliance_initialized[0]:\n",
    "            time.sleep(60)\n",
    "        print(\"Model documentation has been initialized.\")\n",
    "else:\n",
    "    print(\"Model documentation has been initialized.\")"
   ]
  },
  {
   "cell_type": "code",
   "execution_count": null,
   "metadata": {},
   "outputs": [],
   "source": [
    "model_documentation_request_body = {\n",
    "    \"entityId\": model_package_id,\n",
    "    \"documentType\": manifest['model_documentation']['document_type'],\n",
    "    \"templateId\": manifest['model_documentation']['template_id'],\n",
    "    \"outputFormat\":manifest['model_documentation']['output_format'],\n",
    "}"
   ]
  },
  {
   "cell_type": "code",
   "execution_count": null,
   "metadata": {},
   "outputs": [],
   "source": [
    "MODEL_DOCUMENTATION_ENDPOINT = \"automatedDocuments/\"\n",
    "\n",
    "model_documentation_resp = client.post(MODEL_DOCUMENTATION_ENDPOINT, model_documentation_request_body)\n",
    "\n",
    "model_documentation_location = model_documentation_resp.headers['Location']\n",
    "\n",
    "print(f\"Model documentation location: {model_documentation_location}\")"
   ]
  },
  {
   "cell_type": "code",
   "execution_count": null,
   "metadata": {},
   "outputs": [],
   "source": [
    "last_status = \"\"\n",
    "\n",
    "while True:\n",
    "    try:\n",
    "         status = json.loads(client.get(model_documentation_location).text)['status']\n",
    "    except:\n",
    "        print(\"Compliance documentation is generated.\")\n",
    "        break\n",
    "\n",
    "    if status == \"INITIALIZED\":\n",
    "        if last_status == \"INITIALIZED\":\n",
    "            pass\n",
    "        else:\n",
    "            print(\"Compliance documentation is being initialized...\")\n",
    "            last_status = status\n",
    "    elif status == \"RUNNING\":\n",
    "        if last_status == \"RUNNING\":\n",
    "            pass\n",
    "        else:\n",
    "            print(\"Compliance documentation is being generated...\")\n",
    "            last_status = status\n",
    "    else:\n",
    "        print(\"Compliance documentation is generated.\")\n",
    "        break\n",
    "\n",
    "    time.sleep(10)"
   ]
  },
  {
   "cell_type": "code",
   "execution_count": null,
   "metadata": {
    "colab": {
     "base_uri": "https://localhost:8080/"
    },
    "id": "pw3UtkSHM4qK",
    "outputId": "4513c002-8327-42bd-a896-ab16fa9f6357"
   },
   "outputs": [],
   "source": [
    "file_path = f\"{manifest['model_documentation']['file_path']}/Model_Documentation_{model_package_id}_{datetime.now().strftime('%Y-%m-%d_%H:%M:%S')}.docx\"\n",
    "\n",
    "print(f\"The model documentaiton is stored at {file_path}\")"
   ]
  },
  {
   "cell_type": "code",
   "execution_count": null,
   "metadata": {},
   "outputs": [],
   "source": [
    "generation_response = client.get(model_documentation_location, stream=True)\n",
    "with open(file_path, mode=\"wb\") as f:\n",
    "    for chunk in generation_response.iter_content(chunk_size=1024 * 1024):\n",
    "        f.write(chunk)"
   ]
  },
  {
   "cell_type": "raw",
   "metadata": {
    "colab": {
     "base_uri": "https://localhost:8080/"
    },
    "id": "yOgaXiPrNH9c",
    "outputId": "1a708621-d9df-426a-e516-a41ca6eb218a"
   },
   "source": [
    "# doc.filepath = file_path\n",
    "# doc.generate()\n",
    "# doc.download()"
   ]
  },
  {
   "cell_type": "markdown",
   "metadata": {},
   "source": [
    "# Deploy the Custom Model"
   ]
  },
  {
   "cell_type": "code",
   "execution_count": 23,
   "metadata": {},
   "outputs": [],
   "source": [
    "CREATE_DEPLOYMENT_FROM_MODEL_PACKAGE_ENDPOINT = \"deployments/fromModelPackage/\"\n",
    "DEPLOYMENT_JSON_FILE_PATH = \"config/deployment.json\"\n",
    "DEPLOYMENT_UPDATES_JSON_FILE_PATH = \"config/deployment_settings.json\""
   ]
  },
  {
   "cell_type": "code",
   "execution_count": 24,
   "metadata": {},
   "outputs": [],
   "source": [
    "# Read metadata of the custom model from the model manifest.json file.\n",
    "f = open(DEPLOYMENT_JSON_FILE_PATH)\n",
    "\n",
    "# Returns JSON object as a dictionary\n",
    "deployment_json = json.load(f)"
   ]
  },
  {
   "cell_type": "code",
   "execution_count": 25,
   "metadata": {},
   "outputs": [
    {
     "data": {
      "text/plain": [
       "{'modelPackageId': '63e984246819683a4e113119',\n",
       " 'predictionEnvironmentId': '5a61d7a0fbd723001a2f70d9',\n",
       " 'label': '[API] Kaggle Lending Club XGBoost',\n",
       " 'importance': 'LOW'}"
      ]
     },
     "execution_count": 25,
     "metadata": {},
     "output_type": "execute_result"
    }
   ],
   "source": [
    "deployment_json['modelPackageId'] = model_package_id\n",
    "deployment_json"
   ]
  },
  {
   "cell_type": "code",
   "execution_count": 26,
   "metadata": {},
   "outputs": [],
   "source": [
    "def get_id_from_json_response(resp):\n",
    "    return json.loads(resp.content.decode())['id']"
   ]
  },
  {
   "cell_type": "code",
   "execution_count": 27,
   "metadata": {},
   "outputs": [],
   "source": [
    "# Create the deployment\n",
    "deployment_resp = client.post(CREATE_DEPLOYMENT_FROM_MODEL_PACKAGE_ENDPOINT, data=deployment_json)"
   ]
  },
  {
   "cell_type": "code",
   "execution_count": 28,
   "metadata": {},
   "outputs": [
    {
     "name": "stdout",
     "output_type": "stream",
     "text": [
      "The deployment id: 63e9843daa906786084e0d12\n"
     ]
    }
   ],
   "source": [
    "deployment_id = get_id_from_json_response(deployment_resp)\n",
    "\n",
    "print(f\"The deployment id: {deployment_id}\")"
   ]
  },
  {
   "cell_type": "code",
   "execution_count": 29,
   "metadata": {},
   "outputs": [],
   "source": [
    "def get_setting_from_json(file_path):\n",
    "    # Read metadata of the model package from the model_package.json file.\n",
    "    f = open(file_path)\n",
    "\n",
    "    # Returns JSON object as a dictionary\n",
    "    settings = json.load(f)\n",
    "\n",
    "    return settings"
   ]
  },
  {
   "cell_type": "code",
   "execution_count": 30,
   "metadata": {},
   "outputs": [
    {
     "data": {
      "text/plain": [
       "{'targetDrift': {'enabled': True},\n",
       " 'featureDrift': {'enabled': True},\n",
       " 'segmentAnalysis': {'enabled': True, 'attributes': ['addr_state', 'grade']},\n",
       " 'challengerModels': {'enabled': True},\n",
       " 'predictionsDataCollection': {'enabled': True},\n",
       " 'automaticActuals': {'enabled': False},\n",
       " 'associationId': {'requiredInPredictionRequests': True,\n",
       "  'columnNames': ['id']},\n",
       " 'biasAndFairness': None}"
      ]
     },
     "execution_count": 30,
     "metadata": {},
     "output_type": "execute_result"
    }
   ],
   "source": [
    "# Read additional deployment settings for drift and accuracy monitoring\n",
    "deployment_settings_update = get_setting_from_json(DEPLOYMENT_UPDATES_JSON_FILE_PATH)\n",
    "deployment_settings_update"
   ]
  },
  {
   "cell_type": "code",
   "execution_count": 31,
   "metadata": {},
   "outputs": [
    {
     "data": {
      "text/plain": [
       "<Response [202]>"
      ]
     },
     "execution_count": 31,
     "metadata": {},
     "output_type": "execute_result"
    }
   ],
   "source": [
    "# Update the deployment settings for drift and accuracy monitoring\n",
    "UPDATE_DEPLOYMENT_SETTING_ENDPOINT = f\"deployments/{deployment_id}/settings/\"\n",
    "resp = client.patch(UPDATE_DEPLOYMENT_SETTING_ENDPOINT, data=deployment_settings_update)\n",
    "resp"
   ]
  },
  {
   "cell_type": "markdown",
   "metadata": {},
   "source": [
    "# Update Deployment Manifest"
   ]
  },
  {
   "cell_type": "code",
   "execution_count": 32,
   "metadata": {},
   "outputs": [],
   "source": [
    "manifest.update({\"deployment_settings\": deployment_json})"
   ]
  },
  {
   "cell_type": "code",
   "execution_count": 33,
   "metadata": {},
   "outputs": [],
   "source": [
    "manifest.update({\"deployment_settings_update\": deployment_settings_update})"
   ]
  },
  {
   "cell_type": "code",
   "execution_count": 34,
   "metadata": {},
   "outputs": [
    {
     "data": {
      "text/plain": [
       "{'datarobot_endpoint': 'https://app.datarobot.com/api/v2/',\n",
       " 'log_path': './log/',\n",
       " 'custom_model': {'name': '[API] Kaggle Lending Club XGBoost',\n",
       "  'target_type': 'Binary',\n",
       "  'target_name': 'loan_status',\n",
       "  'positive_class_label': '1',\n",
       "  'negative_class_label': '0',\n",
       "  'description': 'Showcase automated model testing, documentaiton, registeration, and deployment using the DataRobot API.',\n",
       "  'language': 'Python',\n",
       "  'custom_model_id': '63e97c45d48f644a57d412b4'},\n",
       " 'model_environment': {'model_environment_name': '[DataRobot] Python 3.9 Scikit-Learn Drop-In',\n",
       "  'model_environment_id': '5e8c889607389fe0f466c72d',\n",
       "  'log_path': './log/model_build_log_63e97c45d48f644a57d412b4_5e8c889607389fe0f466c72d_2023-02-12_19:02:33.txt'},\n",
       " 'custom_model_version': {'is_major_update': True,\n",
       "  'folder_path': './deploy',\n",
       "  'description': 'Model trained using XGBoost and Scikit-Learn Simple Imputer.',\n",
       "  'version_id': '63e97c51d5f7d318ef2fd826',\n",
       "  'version': 'v1.0'},\n",
       " 'model_test': {'file_path': './dataset/demo_lending_club_scoring_10k.csv',\n",
       "  'test_data_id': '63e92440fc55a21b06112efe',\n",
       "  'log_path': './log/model_test_log_63e97c45d48f644a57d412b4_v1.0_2023-02-12_19:28:11.txt'},\n",
       " 'training_data': {'file_path': './dataset/demo_lending_club_training_complete_with_partition.csv',\n",
       "  'training_data_id': '63e92440df5b48fc9c39b812'},\n",
       " 'model_package': {'model_package_id': '63e984246819683a4e113119'},\n",
       " 'model_documentation': {'document_type': 'MODEL_COMPLIANCE',\n",
       "  'output_format': 'docx',\n",
       "  'file_path': './model_documentation/',\n",
       "  'template_id': '62cc96c64c10f548b87b4918',\n",
       "  'template_name': 'Customized Model Documentation Binary'},\n",
       " 'deployment_settings': {'modelPackageId': '63e984246819683a4e113119',\n",
       "  'predictionEnvironmentId': '5a61d7a0fbd723001a2f70d9',\n",
       "  'label': '[API] Kaggle Lending Club XGBoost',\n",
       "  'importance': 'LOW'},\n",
       " 'deployment_settings_update': {'targetDrift': {'enabled': True},\n",
       "  'featureDrift': {'enabled': True},\n",
       "  'segmentAnalysis': {'enabled': True, 'attributes': ['addr_state', 'grade']},\n",
       "  'challengerModels': {'enabled': True},\n",
       "  'predictionsDataCollection': {'enabled': True},\n",
       "  'automaticActuals': {'enabled': False},\n",
       "  'associationId': {'requiredInPredictionRequests': True,\n",
       "   'columnNames': ['id']},\n",
       "  'biasAndFairness': None}}"
      ]
     },
     "execution_count": 34,
     "metadata": {},
     "output_type": "execute_result"
    }
   ],
   "source": [
    "manifest"
   ]
  },
  {
   "cell_type": "code",
   "execution_count": 35,
   "metadata": {},
   "outputs": [
    {
     "name": "stdout",
     "output_type": "stream",
     "text": [
      "The updated manifest is stored at log/manifest_2023-02-12_19:29:12.json\n"
     ]
    }
   ],
   "source": [
    "# Write the manifest captured to a json file. \n",
    "\n",
    "manifest_file_path = f\"log/manifest_{datetime.now().strftime('%Y-%m-%d_%H:%M:%S')}.json\"\n",
    "with open(manifest_file_path, 'w') as mf:\n",
    "    json.dump(manifest, mf, indent=4)\n",
    "    \n",
    "print(f\"The updated manifest is stored at {manifest_file_path}\")"
   ]
  },
  {
   "cell_type": "markdown",
   "metadata": {},
   "source": [
    "# Clean up"
   ]
  },
  {
   "cell_type": "code",
   "execution_count": null,
   "metadata": {},
   "outputs": [],
   "source": [
    "clean_up = True"
   ]
  },
  {
   "cell_type": "code",
   "execution_count": null,
   "metadata": {},
   "outputs": [],
   "source": [
    "if clean_up:\n",
    "    dr.Deployment.get(deployment_id).delete()\n",
    "    \n",
    "    ARCHIVE_MODEL_PACKAGE_ENDPOINT = f\"modelPackages/{model_package_id}/archive/\"\n",
    "    client.post(ARCHIVE_MODEL_PACKAGE_ENDPOINT)\n",
    "    \n",
    "    custom_model.delete()"
   ]
  },
  {
   "cell_type": "code",
   "execution_count": null,
   "metadata": {},
   "outputs": [],
   "source": []
  }
 ],
 "metadata": {
  "celltoolbar": "Raw Cell Format",
  "colab": {
   "collapsed_sections": [
    "Oc9PBq1Y1Hth"
   ],
   "name": "DataRobot MRM Documentation for Custom Model.ipynb",
   "provenance": []
  },
  "kernelspec": {
   "display_name": "ven_dru",
   "language": "python",
   "name": "ven_dru"
  },
  "language_info": {
   "codemirror_mode": {
    "name": "ipython",
    "version": 3
   },
   "file_extension": ".py",
   "mimetype": "text/x-python",
   "name": "python",
   "nbconvert_exporter": "python",
   "pygments_lexer": "ipython3",
   "version": "3.9.7"
  }
 },
 "nbformat": 4,
 "nbformat_minor": 4
}
